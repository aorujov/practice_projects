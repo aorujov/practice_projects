{
 "cells": [
  {
   "cell_type": "code",
   "execution_count": 4,
   "metadata": {
    "colab": {
     "base_uri": "https://localhost:8080/",
     "height": 33
    },
    "colab_type": "code",
    "id": "kfKsTD6AbXeW",
    "outputId": "7ab127d4-3961-4ae9-9931-dfad6d02e860"
   },
   "outputs": [
    {
     "name": "stdout",
     "output_type": "stream",
     "text": [
      "1.16.1\n"
     ]
    }
   ],
   "source": [
    "import tensorflow as tf\n",
    "from tensorflow import keras\n",
    "\n",
    "import numpy as np\n",
    "\n",
    "import matplotlib.pyplot as plt\n",
    "print(np.__version__)"
   ]
  },
  {
   "cell_type": "code",
   "execution_count": 5,
   "metadata": {
    "colab": {
     "base_uri": "https://localhost:8080/",
     "height": 33
    },
    "colab_type": "code",
    "id": "iCfwJLTwbbp2",
    "outputId": "0a689cd4-2183-4527-858f-c6ce9ac16ab6"
   },
   "outputs": [
    {
     "name": "stdout",
     "output_type": "stream",
     "text": [
      "Training entries: 25000, labels: 25000\n"
     ]
    }
   ],
   "source": [
    "imdb = keras.datasets.imdb\n",
    "\n",
    "# The argument num_words=10000 keeps the top 10,000 most frequently occurring words \n",
    "#in the training data. The rare words are discarded to keep the size of the data manageable.\n",
    "(train_data, train_labels), (test_data, test_labels) = imdb.load_data(num_words=10000)\n",
    "\n",
    "print(\"Training entries: {}, labels: {}\".format(len(train_data), len(train_labels)))"
   ]
  },
  {
   "cell_type": "code",
   "execution_count": 18,
   "metadata": {
    "colab": {
     "base_uri": "https://localhost:8080/",
     "height": 87
    },
    "colab_type": "code",
    "id": "TjfyxUtjbd1o",
    "outputId": "c913ce2e-11c0-40e9-a795-9507839a4019"
   },
   "outputs": [
    {
     "name": "stdout",
     "output_type": "stream",
     "text": [
      "(25000,)\n",
      "218\n",
      "[1, 14, 22, 16, 43, 530, 973, 1622, 1385, 65, 458, 4468, 66, 3941, 4, 173, 36, 256, 5, 25, 100, 43, 838, 112, 50, 670, 2, 9, 35, 480, 284, 5, 150, 4, 172, 112, 167, 2, 336, 385, 39, 4, 172, 4536, 1111, 17, 546, 38, 13, 447, 4, 192, 50, 16, 6, 147, 2025, 19, 14, 22, 4, 1920, 4613, 469, 4, 22, 71, 87, 12, 16, 43, 530, 38, 76, 15, 13, 1247, 4, 22, 17, 515, 17, 12, 16, 626, 18, 2, 5, 62, 386, 12, 8, 316, 8, 106, 5, 4, 2223, 5244, 16, 480, 66, 3785, 33, 4, 130, 12, 16, 38, 619, 5, 25, 124, 51, 36, 135, 48, 25, 1415, 33, 6, 22, 12, 215, 28, 77, 52, 5, 14, 407, 16, 82, 2, 8, 4, 107, 117, 5952, 15, 256, 4, 2, 7, 3766, 5, 723, 36, 71, 43, 530, 476, 26, 400, 317, 46, 7, 4, 2, 1029, 13, 104, 88, 4, 381, 15, 297, 98, 32, 2071, 56, 26, 141, 6, 194, 7486, 18, 4, 226, 22, 21, 134, 476, 26, 480, 5, 144, 30, 5535, 18, 51, 36, 28, 224, 92, 25, 104, 4, 226, 65, 16, 38, 1334, 88, 12, 16, 283, 5, 16, 4472, 113, 103, 32, 15, 16, 5345, 19, 178, 32]\n"
     ]
    }
   ],
   "source": [
    "print(train_data.shape)\n",
    "print(len(train_data[0]))\n",
    "print(train_data[0])"
   ]
  },
  {
   "cell_type": "markdown",
   "metadata": {
    "colab_type": "text",
    "id": "dyLdgTssc3I2"
   },
   "source": [
    "### Preprocessing"
   ]
  },
  {
   "cell_type": "code",
   "execution_count": 19,
   "metadata": {
    "colab": {
     "base_uri": "https://localhost:8080/",
     "height": 50
    },
    "colab_type": "code",
    "id": "si44c0dUclvX",
    "outputId": "827957c2-d8ce-4eb1-97d4-481407e40207"
   },
   "outputs": [
    {
     "name": "stdout",
     "output_type": "stream",
     "text": [
      "Downloading data from https://storage.googleapis.com/tensorflow/tf-keras-datasets/imdb_word_index.json\n",
      "1646592/1641221 [==============================] - 0s 0us/step\n"
     ]
    }
   ],
   "source": [
    "# A dictionary mapping words to an integer index\n",
    "word_index = imdb.get_word_index()\n",
    "\n",
    "# The first indices are reserved\n",
    "word_index = {k:(v+3) for k,v in word_index.items()} \n",
    "word_index[\"<PAD>\"] = 0\n",
    "word_index[\"<START>\"] = 1\n",
    "word_index[\"<UNK>\"] = 2  # unknown\n",
    "word_index[\"<UNUSED>\"] = 3\n",
    "\n",
    "reverse_word_index = dict([(value, key) for (key, value) in word_index.items()])\n",
    "\n",
    "def decode_review(text):\n",
    "    return ' '.join([reverse_word_index.get(i, '?') for i in text])\n"
   ]
  },
  {
   "cell_type": "code",
   "execution_count": 20,
   "metadata": {
    "colab": {
     "base_uri": "https://localhost:8080/",
     "height": 53
    },
    "colab_type": "code",
    "id": "1cdt6ahhcU8J",
    "outputId": "29e425f6-b9d2-4899-cb93-e69105f88c17"
   },
   "outputs": [
    {
     "data": {
      "text/plain": [
       "\"<START> this film was just brilliant casting location scenery story direction everyone's really suited the part they played and you could just imagine being there robert <UNK> is an amazing actor and now the same being director <UNK> father came from the same scottish island as myself so i loved the fact there was a real connection with this film the witty remarks throughout the film were great it was just brilliant so much that i bought the film as soon as it was released for <UNK> and would recommend it to everyone to watch and the fly fishing was amazing really cried at the end it was so sad and you know what they say if you cry at a film it must have been good and this definitely was also <UNK> to the two little boy's that played the <UNK> of norman and paul they were just brilliant children are often left out of the <UNK> list i think because the stars that play them all grown up are such a big profile for the whole film but these children are amazing and should be praised for what they have done don't you think the whole story was so lovely because it was true and was someone's life after all that was shared with us all\""
      ]
     },
     "execution_count": 20,
     "metadata": {
      "tags": []
     },
     "output_type": "execute_result"
    }
   ],
   "source": [
    "decode_review(train_data[0])"
   ]
  },
  {
   "cell_type": "code",
   "execution_count": 0,
   "metadata": {
    "colab": {},
    "colab_type": "code",
    "id": "F3elJFw3dTj7"
   },
   "outputs": [],
   "source": [
    "train_data = keras.preprocessing.sequence.pad_sequences(train_data,\n",
    "                                                        value=word_index[\"<PAD>\"],\n",
    "                                                        padding='post',\n",
    "                                                        maxlen=256)\n",
    "\n",
    "test_data = keras.preprocessing.sequence.pad_sequences(test_data,\n",
    "                                                       value=word_index[\"<PAD>\"],\n",
    "                                                       padding='post',\n",
    "                                                       maxlen=256)"
   ]
  },
  {
   "cell_type": "code",
   "execution_count": 26,
   "metadata": {
    "colab": {
     "base_uri": "https://localhost:8080/",
     "height": 84
    },
    "colab_type": "code",
    "id": "wPg08HIudV1k",
    "outputId": "8c9fbaea-879a-4398-92bd-bc3fee366ebd"
   },
   "outputs": [
    {
     "name": "stdout",
     "output_type": "stream",
     "text": [
      "(25000, 256)\n",
      "(25000,)\n",
      "(25000, 256)\n",
      "(25000,)\n"
     ]
    }
   ],
   "source": [
    "print(train_data.shape)\n",
    "print(train_labels.shape)\n",
    "\n",
    "\n",
    "print(test_data.shape)\n",
    "print(test_labels.shape)"
   ]
  },
  {
   "cell_type": "code",
   "execution_count": 27,
   "metadata": {
    "colab": {
     "base_uri": "https://localhost:8080/",
     "height": 418
    },
    "colab_type": "code",
    "id": "MB10PHkWdVym",
    "outputId": "e9b23ae3-6161-49e4-be0b-55fa4db0c629"
   },
   "outputs": [
    {
     "data": {
      "text/plain": [
       "array([   1,   14,   22,   16,   43,  530,  973, 1622, 1385,   65,  458,\n",
       "       4468,   66, 3941,    4,  173,   36,  256,    5,   25,  100,   43,\n",
       "        838,  112,   50,  670,    2,    9,   35,  480,  284,    5,  150,\n",
       "          4,  172,  112,  167,    2,  336,  385,   39,    4,  172, 4536,\n",
       "       1111,   17,  546,   38,   13,  447,    4,  192,   50,   16,    6,\n",
       "        147, 2025,   19,   14,   22,    4, 1920, 4613,  469,    4,   22,\n",
       "         71,   87,   12,   16,   43,  530,   38,   76,   15,   13, 1247,\n",
       "          4,   22,   17,  515,   17,   12,   16,  626,   18,    2,    5,\n",
       "         62,  386,   12,    8,  316,    8,  106,    5,    4, 2223, 5244,\n",
       "         16,  480,   66, 3785,   33,    4,  130,   12,   16,   38,  619,\n",
       "          5,   25,  124,   51,   36,  135,   48,   25, 1415,   33,    6,\n",
       "         22,   12,  215,   28,   77,   52,    5,   14,  407,   16,   82,\n",
       "          2,    8,    4,  107,  117, 5952,   15,  256,    4,    2,    7,\n",
       "       3766,    5,  723,   36,   71,   43,  530,  476,   26,  400,  317,\n",
       "         46,    7,    4,    2, 1029,   13,  104,   88,    4,  381,   15,\n",
       "        297,   98,   32, 2071,   56,   26,  141,    6,  194, 7486,   18,\n",
       "          4,  226,   22,   21,  134,  476,   26,  480,    5,  144,   30,\n",
       "       5535,   18,   51,   36,   28,  224,   92,   25,  104,    4,  226,\n",
       "         65,   16,   38, 1334,   88,   12,   16,  283,    5,   16, 4472,\n",
       "        113,  103,   32,   15,   16, 5345,   19,  178,   32,    0,    0,\n",
       "          0,    0,    0,    0,    0,    0,    0,    0,    0,    0,    0,\n",
       "          0,    0,    0,    0,    0,    0,    0,    0,    0,    0,    0,\n",
       "          0,    0,    0,    0,    0,    0,    0,    0,    0,    0,    0,\n",
       "          0,    0,    0], dtype=int32)"
      ]
     },
     "execution_count": 27,
     "metadata": {
      "tags": []
     },
     "output_type": "execute_result"
    }
   ],
   "source": [
    "train_data[0]"
   ]
  },
  {
   "cell_type": "markdown",
   "metadata": {
    "colab_type": "text",
    "id": "pxvDpEDQeA-R"
   },
   "source": [
    "### Model"
   ]
  },
  {
   "cell_type": "code",
   "execution_count": 28,
   "metadata": {
    "colab": {
     "base_uri": "https://localhost:8080/",
     "height": 338
    },
    "colab_type": "code",
    "id": "-IZapS-bdVwD",
    "outputId": "7139026d-7733-4fca-8334-7c5eb05857a8"
   },
   "outputs": [
    {
     "name": "stdout",
     "output_type": "stream",
     "text": [
      "WARNING:tensorflow:From /usr/local/lib/python3.6/dist-packages/tensorflow/python/ops/resource_variable_ops.py:435: colocate_with (from tensorflow.python.framework.ops) is deprecated and will be removed in a future version.\n",
      "Instructions for updating:\n",
      "Colocations handled automatically by placer.\n",
      "_________________________________________________________________\n",
      "Layer (type)                 Output Shape              Param #   \n",
      "=================================================================\n",
      "embedding (Embedding)        (None, None, 16)          160000    \n",
      "_________________________________________________________________\n",
      "global_average_pooling1d (Gl (None, 16)                0         \n",
      "_________________________________________________________________\n",
      "dense (Dense)                (None, 16)                272       \n",
      "_________________________________________________________________\n",
      "dense_1 (Dense)              (None, 1)                 17        \n",
      "=================================================================\n",
      "Total params: 160,289\n",
      "Trainable params: 160,289\n",
      "Non-trainable params: 0\n",
      "_________________________________________________________________\n"
     ]
    }
   ],
   "source": [
    "# input shape is the vocabulary count used for the movie reviews (10,000 words)\n",
    "vocab_size = 10000\n",
    "\n",
    "model = keras.Sequential()\n",
    "model.add(keras.layers.Embedding(vocab_size, 16))\n",
    "model.add(keras.layers.GlobalAveragePooling1D())\n",
    "model.add(keras.layers.Dense(16, activation=tf.nn.relu))\n",
    "model.add(keras.layers.Dense(1, activation=tf.nn.sigmoid))\n",
    "\n",
    "model.summary()\n"
   ]
  },
  {
   "cell_type": "markdown",
   "metadata": {
    "colab_type": "text",
    "id": "LBnpYQz2eXr2"
   },
   "source": [
    "### The layers are stacked sequentially to build the classifier:\n",
    "\n",
    "* The first layer is an Embedding layer. This layer takes the integer-encoded vocabulary \n",
    "and looks up the embedding vector for each word-index. These vectors are learned as the\n",
    "model trains. The vectors add a dimension to the output array. The resulting dimensions\n",
    "are: (batch, sequence, embedding).\n",
    "\n",
    "* Next, a GlobalAveragePooling1D layer returns a fixed-length output vector for each \n",
    "example by averaging over the sequence dimension. This allows the model can handle input \n",
    "of variable length, in the simplest way possible.\n",
    "\n",
    "* This fixed-length output vector is piped through a fully-connected (Dense) layer with 16\n",
    " hidden units.\n",
    "\n",
    "* The last layer is densely connected with a single output node. Using the sigmoid \n",
    "activation function, this value is a float between 0 and 1, representing a probability,\n",
    "or confidence level\n",
    "\n",
    "\n",
    "### Loss function and optimizer\n",
    "* A model needs a loss function and an optimizer for training. Since this is a binary \n",
    "classification problem and the model outputs of a probability (a single-unit layer with\n",
    " a sigmoid activation), we'll use the binary_crossentropy loss function.\n",
    "\n",
    "* This isn't the only choice for a loss function, you could, for instance, choose\n",
    "mean_squared_error. But, generally, binary_crossentropy is better for dealing with\n",
    "probabilities—it measures the \"distance\" between probability distributions, or in our \n",
    "case, between the ground-truth distribution and the predictions.\n",
    "\n",
    "* Later, when we are exploring regression problems (say, to predict the price of a house), \n",
    "we will see how to use another loss function called mean squared error.\n"
   ]
  },
  {
   "cell_type": "code",
   "execution_count": 0,
   "metadata": {
    "colab": {},
    "colab_type": "code",
    "id": "1nUh6va8dVth"
   },
   "outputs": [],
   "source": [
    "model.compile(optimizer=tf.train.AdamOptimizer(),\n",
    "              loss='binary_crossentropy',\n",
    "              metrics=['accuracy'])\n"
   ]
  },
  {
   "cell_type": "code",
   "execution_count": 0,
   "metadata": {
    "colab": {},
    "colab_type": "code",
    "id": "_Ovpuh1xekT4"
   },
   "outputs": [],
   "source": [
    "# Create a validation set\n",
    "x_val = train_data[:10000]\n",
    "partial_x_train = train_data[10000:]\n",
    "\n",
    "y_val = train_labels[:10000]\n",
    "partial_y_train = train_labels[10000:]"
   ]
  },
  {
   "cell_type": "code",
   "execution_count": 31,
   "metadata": {
    "colab": {
     "base_uri": "https://localhost:8080/",
     "height": 1442
    },
    "colab_type": "code",
    "id": "Ax11y1SvemC_",
    "outputId": "400cff32-bc4a-42b9-aa6e-5b5f67e7e01c"
   },
   "outputs": [
    {
     "name": "stdout",
     "output_type": "stream",
     "text": [
      "Train on 15000 samples, validate on 10000 samples\n",
      "WARNING:tensorflow:From /usr/local/lib/python3.6/dist-packages/tensorflow/python/ops/math_ops.py:3066: to_int32 (from tensorflow.python.ops.math_ops) is deprecated and will be removed in a future version.\n",
      "Instructions for updating:\n",
      "Use tf.cast instead.\n",
      "Epoch 1/40\n",
      "15000/15000 [==============================] - 1s 98us/sample - loss: 0.6913 - acc: 0.5856 - val_loss: 0.6888 - val_acc: 0.6419\n",
      "Epoch 2/40\n",
      "15000/15000 [==============================] - 1s 68us/sample - loss: 0.6844 - acc: 0.7139 - val_loss: 0.6802 - val_acc: 0.7238\n",
      "Epoch 3/40\n",
      "15000/15000 [==============================] - 1s 64us/sample - loss: 0.6713 - acc: 0.7521 - val_loss: 0.6643 - val_acc: 0.7599\n",
      "Epoch 4/40\n",
      "15000/15000 [==============================] - 1s 64us/sample - loss: 0.6494 - acc: 0.7672 - val_loss: 0.6395 - val_acc: 0.7667\n",
      "Epoch 5/40\n",
      "15000/15000 [==============================] - 1s 64us/sample - loss: 0.6176 - acc: 0.7964 - val_loss: 0.6064 - val_acc: 0.7892\n",
      "Epoch 6/40\n",
      "15000/15000 [==============================] - 1s 64us/sample - loss: 0.5774 - acc: 0.8175 - val_loss: 0.5675 - val_acc: 0.8068\n",
      "Epoch 7/40\n",
      "15000/15000 [==============================] - 1s 64us/sample - loss: 0.5322 - acc: 0.8306 - val_loss: 0.5251 - val_acc: 0.8205\n",
      "Epoch 8/40\n",
      "15000/15000 [==============================] - 1s 64us/sample - loss: 0.4865 - acc: 0.8473 - val_loss: 0.4853 - val_acc: 0.8340\n",
      "Epoch 9/40\n",
      "15000/15000 [==============================] - 1s 64us/sample - loss: 0.4433 - acc: 0.8612 - val_loss: 0.4488 - val_acc: 0.8427\n",
      "Epoch 10/40\n",
      "15000/15000 [==============================] - 1s 64us/sample - loss: 0.4047 - acc: 0.8740 - val_loss: 0.4181 - val_acc: 0.8492\n",
      "Epoch 11/40\n",
      "15000/15000 [==============================] - 1s 65us/sample - loss: 0.3715 - acc: 0.8810 - val_loss: 0.3925 - val_acc: 0.8588\n",
      "Epoch 12/40\n",
      "15000/15000 [==============================] - 1s 63us/sample - loss: 0.3434 - acc: 0.8896 - val_loss: 0.3725 - val_acc: 0.8609\n",
      "Epoch 13/40\n",
      "15000/15000 [==============================] - 1s 64us/sample - loss: 0.3202 - acc: 0.8943 - val_loss: 0.3546 - val_acc: 0.8676\n",
      "Epoch 14/40\n",
      "15000/15000 [==============================] - 1s 62us/sample - loss: 0.2994 - acc: 0.8999 - val_loss: 0.3416 - val_acc: 0.8711\n",
      "Epoch 15/40\n",
      "15000/15000 [==============================] - 1s 63us/sample - loss: 0.2820 - acc: 0.9039 - val_loss: 0.3306 - val_acc: 0.8719\n",
      "Epoch 16/40\n",
      "15000/15000 [==============================] - 1s 62us/sample - loss: 0.2664 - acc: 0.9091 - val_loss: 0.3215 - val_acc: 0.8749\n",
      "Epoch 17/40\n",
      "15000/15000 [==============================] - 1s 63us/sample - loss: 0.2520 - acc: 0.9137 - val_loss: 0.3139 - val_acc: 0.8763\n",
      "Epoch 18/40\n",
      "15000/15000 [==============================] - 1s 63us/sample - loss: 0.2394 - acc: 0.9185 - val_loss: 0.3072 - val_acc: 0.8802\n",
      "Epoch 19/40\n",
      "15000/15000 [==============================] - 1s 63us/sample - loss: 0.2279 - acc: 0.9214 - val_loss: 0.3018 - val_acc: 0.8811\n",
      "Epoch 20/40\n",
      "15000/15000 [==============================] - 1s 63us/sample - loss: 0.2177 - acc: 0.9248 - val_loss: 0.2980 - val_acc: 0.8814\n",
      "Epoch 21/40\n",
      "15000/15000 [==============================] - 1s 63us/sample - loss: 0.2074 - acc: 0.9299 - val_loss: 0.2945 - val_acc: 0.8819\n",
      "Epoch 22/40\n",
      "15000/15000 [==============================] - 1s 64us/sample - loss: 0.1986 - acc: 0.9321 - val_loss: 0.2916 - val_acc: 0.8837\n",
      "Epoch 23/40\n",
      "15000/15000 [==============================] - 1s 64us/sample - loss: 0.1898 - acc: 0.9368 - val_loss: 0.2900 - val_acc: 0.8835\n",
      "Epoch 24/40\n",
      "15000/15000 [==============================] - 1s 65us/sample - loss: 0.1822 - acc: 0.9404 - val_loss: 0.2878 - val_acc: 0.8848\n",
      "Epoch 25/40\n",
      "15000/15000 [==============================] - 1s 64us/sample - loss: 0.1744 - acc: 0.9439 - val_loss: 0.2861 - val_acc: 0.8845\n",
      "Epoch 26/40\n",
      "15000/15000 [==============================] - 1s 63us/sample - loss: 0.1674 - acc: 0.9469 - val_loss: 0.2862 - val_acc: 0.8836\n",
      "Epoch 27/40\n",
      "15000/15000 [==============================] - 1s 64us/sample - loss: 0.1609 - acc: 0.9490 - val_loss: 0.2855 - val_acc: 0.8843\n",
      "Epoch 28/40\n",
      "15000/15000 [==============================] - 1s 64us/sample - loss: 0.1546 - acc: 0.9525 - val_loss: 0.2852 - val_acc: 0.8848\n",
      "Epoch 29/40\n",
      "15000/15000 [==============================] - 1s 65us/sample - loss: 0.1491 - acc: 0.9548 - val_loss: 0.2868 - val_acc: 0.8841\n",
      "Epoch 30/40\n",
      "15000/15000 [==============================] - 1s 64us/sample - loss: 0.1434 - acc: 0.9559 - val_loss: 0.2858 - val_acc: 0.8852\n",
      "Epoch 31/40\n",
      "15000/15000 [==============================] - 1s 64us/sample - loss: 0.1376 - acc: 0.9594 - val_loss: 0.2866 - val_acc: 0.8859\n",
      "Epoch 32/40\n",
      "15000/15000 [==============================] - 1s 64us/sample - loss: 0.1323 - acc: 0.9611 - val_loss: 0.2878 - val_acc: 0.8862\n",
      "Epoch 33/40\n",
      "15000/15000 [==============================] - 1s 64us/sample - loss: 0.1273 - acc: 0.9633 - val_loss: 0.2897 - val_acc: 0.8848\n",
      "Epoch 34/40\n",
      "15000/15000 [==============================] - 1s 63us/sample - loss: 0.1228 - acc: 0.9645 - val_loss: 0.2911 - val_acc: 0.8864\n",
      "Epoch 35/40\n",
      "15000/15000 [==============================] - 1s 64us/sample - loss: 0.1187 - acc: 0.9655 - val_loss: 0.2935 - val_acc: 0.8852\n",
      "Epoch 36/40\n",
      "15000/15000 [==============================] - 1s 65us/sample - loss: 0.1141 - acc: 0.9685 - val_loss: 0.2951 - val_acc: 0.8857\n",
      "Epoch 37/40\n",
      "15000/15000 [==============================] - 1s 63us/sample - loss: 0.1098 - acc: 0.9695 - val_loss: 0.2972 - val_acc: 0.8851\n",
      "Epoch 38/40\n",
      "15000/15000 [==============================] - 1s 63us/sample - loss: 0.1058 - acc: 0.9711 - val_loss: 0.3003 - val_acc: 0.8830\n",
      "Epoch 39/40\n",
      "15000/15000 [==============================] - 1s 63us/sample - loss: 0.1026 - acc: 0.9719 - val_loss: 0.3030 - val_acc: 0.8824\n",
      "Epoch 40/40\n",
      "15000/15000 [==============================] - 1s 64us/sample - loss: 0.0985 - acc: 0.9737 - val_loss: 0.3052 - val_acc: 0.8831\n"
     ]
    }
   ],
   "source": [
    "\n",
    "history = model.fit(partial_x_train,\n",
    "                    partial_y_train,\n",
    "                    epochs=40,\n",
    "                    batch_size=512,\n",
    "                    validation_data=(x_val, y_val),\n",
    "                    verbose=1)"
   ]
  },
  {
   "cell_type": "code",
   "execution_count": 32,
   "metadata": {
    "colab": {
     "base_uri": "https://localhost:8080/",
     "height": 50
    },
    "colab_type": "code",
    "id": "11VI7ye5epR-",
    "outputId": "3a89e187-2343-45d1-ebc3-008645d275c2"
   },
   "outputs": [
    {
     "name": "stdout",
     "output_type": "stream",
     "text": [
      "25000/25000 [==============================] - 1s 38us/sample - loss: 0.3256 - acc: 0.8725\n",
      "[0.32555994253635406, 0.87248]\n"
     ]
    }
   ],
   "source": [
    "results = model.evaluate(test_data, test_labels)\n",
    "\n",
    "print(results)"
   ]
  },
  {
   "cell_type": "code",
   "execution_count": 33,
   "metadata": {
    "colab": {
     "base_uri": "https://localhost:8080/",
     "height": 33
    },
    "colab_type": "code",
    "id": "CylFTEZ6ez1G",
    "outputId": "2b68f6fa-0a0c-4a72-8c2c-282eafc5080b"
   },
   "outputs": [
    {
     "data": {
      "text/plain": [
       "dict_keys(['loss', 'acc', 'val_loss', 'val_acc'])"
      ]
     },
     "execution_count": 33,
     "metadata": {
      "tags": []
     },
     "output_type": "execute_result"
    }
   ],
   "source": [
    "history_dict = history.history\n",
    "history_dict.keys()"
   ]
  },
  {
   "cell_type": "code",
   "execution_count": 34,
   "metadata": {
    "colab": {
     "base_uri": "https://localhost:8080/",
     "height": 294
    },
    "colab_type": "code",
    "id": "33qGfVwte0h-",
    "outputId": "7bcc861a-d989-487e-d09a-89ad8a59928c"
   },
   "outputs": [
    {
     "data": {
      "image/png": "[encoded data removed]",
      "text/plain": [
       "<Figure size 432x288 with 1 Axes>"
      ]
     },
     "metadata": {
      "tags": []
     },
     "output_type": "display_data"
    }
   ],
   "source": [
    "acc = history.history['acc']\n",
    "val_acc = history.history['val_acc']\n",
    "loss = history.history['loss']\n",
    "val_loss = history.history['val_loss']\n",
    "\n",
    "epochs = range(1, len(acc) + 1)\n",
    "\n",
    "# \"bo\" is for \"blue dot\"\n",
    "plt.plot(epochs, loss, 'bo', label='Training loss')\n",
    "# b is for \"solid blue line\"\n",
    "plt.plot(epochs, val_loss, 'b', label='Validation loss')\n",
    "plt.title('Training and validation loss')\n",
    "plt.xlabel('Epochs')\n",
    "plt.ylabel('Loss')\n",
    "plt.legend()\n",
    "\n",
    "plt.show()"
   ]
  },
  {
   "cell_type": "code",
   "execution_count": 35,
   "metadata": {
    "colab": {
     "base_uri": "https://localhost:8080/",
     "height": 294
    },
    "colab_type": "code",
    "id": "GjxyxglTe3Aw",
    "outputId": "16ce66e7-ddd6-451f-c68e-b2fd2b799160"
   },
   "outputs": [
    {
     "data": {
      "image/png": "[encoded data removed]",
      "text/plain": [
       "<Figure size 432x288 with 1 Axes>"
      ]
     },
     "metadata": {
      "tags": []
     },
     "output_type": "display_data"
    }
   ],
   "source": [
    "plt.clf()   # clear figure\n",
    "acc_values = history_dict['acc']\n",
    "val_acc_values = history_dict['val_acc']\n",
    "\n",
    "plt.plot(epochs, acc, 'bo', label='Training acc')\n",
    "plt.plot(epochs, val_acc, 'b', label='Validation acc')\n",
    "plt.title('Training and validation accuracy')\n",
    "plt.xlabel('Epochs')\n",
    "plt.ylabel('Accuracy')\n",
    "plt.legend()\n",
    "\n",
    "plt.show()"
   ]
  },
  {
   "cell_type": "markdown",
   "metadata": {
    "colab_type": "text",
    "id": "xBrXWrNlfFRj"
   },
   "source": [
    "Notice the training loss decreases with each epoch and the training accuracy increases\n",
    "with each epoch. This is expected when using a gradient descent optimization—it should \n",
    "minimize the desired quantity on every iteration.\n",
    "\n",
    "This isn't the case for the validation loss and accuracy—they seem to peak after about \n",
    "twenty epochs. This is an example of overfitting: the model performs better on the \n",
    "training data than it does on data it has never seen before. After this point, the model \n",
    "over-optimizes and learns representations specific to the training data that do not \n",
    "generalize to test data.\n",
    "\n",
    "For this particular case, we could prevent overfitting by simply stopping the training \n",
    "after twenty or so epochs. Later, you'll see how to do this automatically with a callback."
   ]
  }
 ],
 "metadata": {
  "accelerator": "TPU",
  "colab": {
   "collapsed_sections": [],
   "name": "Untitled0.ipynb",
   "provenance": [],
   "version": "0.3.2"
  },
  "kernelspec": {
   "display_name": "Python 3",
   "language": "python",
   "name": "python3"
  },
  "language_info": {
   "codemirror_mode": {
    "name": "ipython",
    "version": 3
   },
   "file_extension": ".py",
   "mimetype": "text/x-python",
   "name": "python",
   "nbconvert_exporter": "python",
   "pygments_lexer": "ipython3",
   "version": "3.6.5"
  }
 },
 "nbformat": 4,
 "nbformat_minor": 1
}
