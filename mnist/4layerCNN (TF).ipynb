{
 "cells": [
  {
   "cell_type": "markdown",
   "metadata": {},
   "source": [
    "# MNIST\n",
    "\n",
    "### Data Format: (number of examples, number of features)\n",
    "\n",
    "* 60,000 examples for training and \n",
    "* 10,000 examples for testing. \n",
    "\n",
    "* X_train (60000, 784)\n",
    "* Y_train (60000, 10)\n",
    "\n",
    "* X_test (10000, 784)\n",
    "* Y_test (10000, 10)\n",
    "\n",
    "### Model - 4 layers\n",
    "\n",
    "L1\n",
    "* CONV (m, 28, 28,1) --->conv(5x5, 32 filters)--> (m,28,28,32)\n",
    "* POOL (m,28,28,32)---> maxpool(2x2)  ----> (m,14,14,32)\n",
    "\n",
    "L2\n",
    "* CONV (m,14,14,32) ----> conv(5x5x32, 64 filters) ---> (m,14,14,64)\n",
    "* POOL (m,14,14,64) ----> maxpool(2x2) ---> (m,7,7,64)\n",
    "\n",
    "L3\n",
    "* Flatten (m,7,7,64) --->Flatten ---> (m, 7x7x64=3136)\n",
    "* FC (m, 3136) ---> FC(w = 3136,1024) --->  1024\n",
    "* dropout(0.75)\n",
    "\n",
    "L4\n",
    "* FC  1024 ----> FC(w = 1024,10) ---> 10\n",
    "* Sofxmax\n",
    "\n",
    "### Results\n",
    "\n",
    "* Accuracy %97\n"
   ]
  },
  {
   "cell_type": "code",
   "execution_count": 1,
   "metadata": {},
   "outputs": [
    {
     "name": "stderr",
     "output_type": "stream",
     "text": [
      "C:\\Users\\abido\\Anaconda3\\lib\\site-packages\\h5py\\__init__.py:36: FutureWarning: Conversion of the second argument of issubdtype from `float` to `np.floating` is deprecated. In future, it will be treated as `np.float64 == np.dtype(float).type`.\n",
      "  from ._conv import register_converters as _register_converters\n"
     ]
    }
   ],
   "source": [
    "from __future__ import division, print_function, absolute_import\n",
    "\n",
    "import tensorflow as tf\n",
    "from tensorflow.examples.tutorials.mnist import input_data"
   ]
  },
  {
   "cell_type": "markdown",
   "metadata": {},
   "source": [
    "### Load the data"
   ]
  },
  {
   "cell_type": "code",
   "execution_count": 2,
   "metadata": {},
   "outputs": [
    {
     "name": "stdout",
     "output_type": "stream",
     "text": [
      "WARNING:tensorflow:From <ipython-input-2-d651cc53d7d8>:1: read_data_sets (from tensorflow.contrib.learn.python.learn.datasets.mnist) is deprecated and will be removed in a future version.\n",
      "Instructions for updating:\n",
      "Please use alternatives such as official/mnist/dataset.py from tensorflow/models.\n",
      "WARNING:tensorflow:From C:\\Users\\abido\\Anaconda3\\lib\\site-packages\\tensorflow\\contrib\\learn\\python\\learn\\datasets\\mnist.py:260: maybe_download (from tensorflow.contrib.learn.python.learn.datasets.base) is deprecated and will be removed in a future version.\n",
      "Instructions for updating:\n",
      "Please write your own downloading logic.\n",
      "WARNING:tensorflow:From C:\\Users\\abido\\Anaconda3\\lib\\site-packages\\tensorflow\\contrib\\learn\\python\\learn\\datasets\\mnist.py:262: extract_images (from tensorflow.contrib.learn.python.learn.datasets.mnist) is deprecated and will be removed in a future version.\n",
      "Instructions for updating:\n",
      "Please use tf.data to implement this functionality.\n",
      "Extracting /tmp/data/train-images-idx3-ubyte.gz\n",
      "WARNING:tensorflow:From C:\\Users\\abido\\Anaconda3\\lib\\site-packages\\tensorflow\\contrib\\learn\\python\\learn\\datasets\\mnist.py:267: extract_labels (from tensorflow.contrib.learn.python.learn.datasets.mnist) is deprecated and will be removed in a future version.\n",
      "Instructions for updating:\n",
      "Please use tf.data to implement this functionality.\n",
      "Extracting /tmp/data/train-labels-idx1-ubyte.gz\n",
      "WARNING:tensorflow:From C:\\Users\\abido\\Anaconda3\\lib\\site-packages\\tensorflow\\contrib\\learn\\python\\learn\\datasets\\mnist.py:110: dense_to_one_hot (from tensorflow.contrib.learn.python.learn.datasets.mnist) is deprecated and will be removed in a future version.\n",
      "Instructions for updating:\n",
      "Please use tf.one_hot on tensors.\n",
      "Extracting /tmp/data/t10k-images-idx3-ubyte.gz\n",
      "Extracting /tmp/data/t10k-labels-idx1-ubyte.gz\n",
      "WARNING:tensorflow:From C:\\Users\\abido\\Anaconda3\\lib\\site-packages\\tensorflow\\contrib\\learn\\python\\learn\\datasets\\mnist.py:290: DataSet.__init__ (from tensorflow.contrib.learn.python.learn.datasets.mnist) is deprecated and will be removed in a future version.\n",
      "Instructions for updating:\n",
      "Please use alternatives such as official/mnist/dataset.py from tensorflow/models.\n"
     ]
    }
   ],
   "source": [
    "mnist = input_data.read_data_sets(\"/tmp/data/\", one_hot=True)"
   ]
  },
  {
   "cell_type": "markdown",
   "metadata": {},
   "source": [
    "### Model"
   ]
  },
  {
   "cell_type": "code",
   "execution_count": 4,
   "metadata": {},
   "outputs": [],
   "source": [
    "# Training Parameters\n",
    "learning_rate = 0.001\n",
    "num_steps = 500\n",
    "batch_size = 128\n",
    "display_step = 10\n",
    "\n",
    "# Network Parameters\n",
    "num_input = 784 # MNIST data input (img shape: 28*28)\n",
    "num_classes = 10 # MNIST total classes (0-9 digits)\n",
    "dropout = 0.75 # Dropout, probability to keep units"
   ]
  },
  {
   "cell_type": "code",
   "execution_count": 5,
   "metadata": {},
   "outputs": [],
   "source": [
    "# tf Graph input\n",
    "X = tf.placeholder(tf.float32, [None, num_input])  ## num_input == # of features\n",
    "Y = tf.placeholder(tf.float32, [None, num_classes])\n",
    "keep_prob = tf.placeholder(tf.float32) # dropout (keep probability)"
   ]
  },
  {
   "cell_type": "code",
   "execution_count": 6,
   "metadata": {},
   "outputs": [],
   "source": [
    "# Store layers weight & bias\n",
    "weights = {\n",
    "    # 5x5 conv, 1 input, 32 outputs\n",
    "    'wc1': tf.Variable(tf.random_normal([5, 5, 1, 32])),\n",
    "    # 5x5 conv, 32 inputs, 64 outputs\n",
    "    'wc2': tf.Variable(tf.random_normal([5, 5, 32, 64])),\n",
    "    # fully connected, 7*7*64 inputs, 1024 outputs\n",
    "    'wd1': tf.Variable(tf.random_normal([7*7*64, 1024])),\n",
    "    # 1024 inputs, 10 outputs (class prediction)\n",
    "    'out': tf.Variable(tf.random_normal([1024, num_classes]))\n",
    "}\n",
    "\n",
    "biases = {\n",
    "    'bc1': tf.Variable(tf.random_normal([32])),\n",
    "    'bc2': tf.Variable(tf.random_normal([64])),\n",
    "    'bd1': tf.Variable(tf.random_normal([1024])),\n",
    "    'out': tf.Variable(tf.random_normal([num_classes]))\n",
    "}\n"
   ]
  },
  {
   "cell_type": "code",
   "execution_count": 7,
   "metadata": {},
   "outputs": [],
   "source": [
    "# Create some wrappers for simplicity\n",
    "def conv2d(x, W, b, strides=1):\n",
    "    # Conv2D wrapper, with bias and relu activation\n",
    "    x = tf.nn.conv2d(x, W, strides=[1, strides, strides, 1], padding='SAME')\n",
    "    x = tf.nn.bias_add(x, b)\n",
    "    return tf.nn.relu(x)\n",
    "\n",
    "\n",
    "def maxpool2d(x, k=2):\n",
    "    # MaxPool2D wrapper\n",
    "    return tf.nn.max_pool(x, ksize=[1, k, k, 1], strides=[1, k, k, 1],\n",
    "                          padding='SAME')\n",
    "\n",
    "\n",
    "# Create model\n",
    "def conv_net(x, weights, biases, dropout):\n",
    "    # MNIST data input is a 1-D vector of 784 features (28*28 pixels)\n",
    "    # Reshape to match picture format [Height x Width x Channel]\n",
    "    # Tensor input become 4-D: [Batch Size, Height, Width, Channel]\n",
    "    x = tf.reshape(x, shape=[-1, 28, 28, 1])\n",
    "\n",
    "    # Convolution Layer\n",
    "    conv1 = conv2d(x, weights['wc1'], biases['bc1'])\n",
    "    # Max Pooling (down-sampling)\n",
    "    conv1 = maxpool2d(conv1, k=2)\n",
    "\n",
    "    # Convolution Layer\n",
    "    conv2 = conv2d(conv1, weights['wc2'], biases['bc2'])\n",
    "    # Max Pooling (down-sampling)\n",
    "    conv2 = maxpool2d(conv2, k=2)\n",
    "\n",
    "    # Fully connected layer\n",
    "    # Reshape conv2 output to fit fully connected layer input\n",
    "    fc1 = tf.reshape(conv2, [-1, weights['wd1'].get_shape().as_list()[0]])\n",
    "    fc1 = tf.add(tf.matmul(fc1, weights['wd1']), biases['bd1'])\n",
    "    fc1 = tf.nn.relu(fc1)\n",
    "    # Apply Dropout\n",
    "    fc1 = tf.nn.dropout(fc1, dropout)\n",
    "\n",
    "    # Output, class prediction\n",
    "    out = tf.add(tf.matmul(fc1, weights['out']), biases['out'])\n",
    "    return out"
   ]
  },
  {
   "cell_type": "code",
   "execution_count": 8,
   "metadata": {},
   "outputs": [
    {
     "name": "stdout",
     "output_type": "stream",
     "text": [
      "WARNING:tensorflow:From <ipython-input-8-6bd02ce53676>:7: softmax_cross_entropy_with_logits (from tensorflow.python.ops.nn_ops) is deprecated and will be removed in a future version.\n",
      "Instructions for updating:\n",
      "\n",
      "Future major versions of TensorFlow will allow gradients to flow\n",
      "into the labels input on backprop by default.\n",
      "\n",
      "See @{tf.nn.softmax_cross_entropy_with_logits_v2}.\n",
      "\n"
     ]
    }
   ],
   "source": [
    "# Construct model\n",
    "logits = conv_net(X, weights, biases, keep_prob)\n",
    "prediction = tf.nn.softmax(logits)\n",
    "\n",
    "# Define loss and optimizer\n",
    "loss_op = tf.reduce_mean(tf.nn.softmax_cross_entropy_with_logits(\n",
    "    logits=logits, labels=Y))\n",
    "\n",
    "optimizer = tf.train.AdamOptimizer(learning_rate=learning_rate)\n",
    "train_op = optimizer.minimize(loss_op)\n"
   ]
  },
  {
   "cell_type": "code",
   "execution_count": 10,
   "metadata": {},
   "outputs": [],
   "source": [
    "# Evaluate model\n",
    "correct_pred = tf.equal(tf.argmax(prediction, 1), tf.argmax(Y, 1))\n",
    "accuracy = tf.reduce_mean(tf.cast(correct_pred, tf.float32))"
   ]
  },
  {
   "cell_type": "markdown",
   "metadata": {},
   "source": [
    "### Training"
   ]
  },
  {
   "cell_type": "code",
   "execution_count": 11,
   "metadata": {},
   "outputs": [
    {
     "name": "stdout",
     "output_type": "stream",
     "text": [
      "Step 1, Minibatch Loss= 31358.9141, Training Accuracy= 0.117\n",
      "Step 10, Minibatch Loss= 17164.9102, Training Accuracy= 0.281\n",
      "Step 20, Minibatch Loss= 8108.1992, Training Accuracy= 0.602\n",
      "Step 30, Minibatch Loss= 4508.1289, Training Accuracy= 0.734\n",
      "Step 40, Minibatch Loss= 4435.2939, Training Accuracy= 0.711\n",
      "Step 50, Minibatch Loss= 2284.2998, Training Accuracy= 0.797\n",
      "Step 60, Minibatch Loss= 2569.6719, Training Accuracy= 0.836\n",
      "Step 70, Minibatch Loss= 3218.4961, Training Accuracy= 0.836\n",
      "Step 80, Minibatch Loss= 2034.0902, Training Accuracy= 0.867\n",
      "Step 90, Minibatch Loss= 2743.3130, Training Accuracy= 0.883\n",
      "Step 100, Minibatch Loss= 1873.9956, Training Accuracy= 0.852\n",
      "Step 110, Minibatch Loss= 3404.4158, Training Accuracy= 0.859\n",
      "Step 120, Minibatch Loss= 1986.9247, Training Accuracy= 0.875\n",
      "Step 130, Minibatch Loss= 1731.6335, Training Accuracy= 0.898\n",
      "Step 140, Minibatch Loss= 809.3174, Training Accuracy= 0.938\n",
      "Step 150, Minibatch Loss= 1408.1946, Training Accuracy= 0.922\n",
      "Step 160, Minibatch Loss= 468.0073, Training Accuracy= 0.945\n",
      "Step 170, Minibatch Loss= 866.6013, Training Accuracy= 0.938\n",
      "Step 180, Minibatch Loss= 1201.6367, Training Accuracy= 0.898\n",
      "Step 190, Minibatch Loss= 1016.1680, Training Accuracy= 0.938\n",
      "Step 200, Minibatch Loss= 736.9391, Training Accuracy= 0.938\n",
      "Step 210, Minibatch Loss= 1120.8049, Training Accuracy= 0.875\n",
      "Step 220, Minibatch Loss= 983.9464, Training Accuracy= 0.875\n",
      "Step 230, Minibatch Loss= 523.9709, Training Accuracy= 0.938\n",
      "Step 240, Minibatch Loss= 1408.0203, Training Accuracy= 0.906\n",
      "Step 250, Minibatch Loss= 924.4200, Training Accuracy= 0.906\n",
      "Step 260, Minibatch Loss= 1724.7039, Training Accuracy= 0.891\n",
      "Step 270, Minibatch Loss= 688.8157, Training Accuracy= 0.930\n",
      "Step 280, Minibatch Loss= 449.7357, Training Accuracy= 0.953\n",
      "Step 290, Minibatch Loss= 1322.4178, Training Accuracy= 0.914\n",
      "Step 300, Minibatch Loss= 522.9689, Training Accuracy= 0.969\n",
      "Step 310, Minibatch Loss= 951.1393, Training Accuracy= 0.930\n",
      "Step 320, Minibatch Loss= 1126.9097, Training Accuracy= 0.914\n",
      "Step 330, Minibatch Loss= 667.9497, Training Accuracy= 0.938\n",
      "Step 340, Minibatch Loss= 844.9197, Training Accuracy= 0.914\n",
      "Step 350, Minibatch Loss= 574.9579, Training Accuracy= 0.961\n",
      "Step 360, Minibatch Loss= 369.0669, Training Accuracy= 0.953\n",
      "Step 370, Minibatch Loss= 564.1471, Training Accuracy= 0.945\n",
      "Step 380, Minibatch Loss= 1127.4615, Training Accuracy= 0.922\n",
      "Step 390, Minibatch Loss= 980.6298, Training Accuracy= 0.953\n",
      "Step 400, Minibatch Loss= 700.3505, Training Accuracy= 0.930\n",
      "Step 410, Minibatch Loss= 386.0452, Training Accuracy= 0.969\n",
      "Step 420, Minibatch Loss= 831.6503, Training Accuracy= 0.945\n",
      "Step 430, Minibatch Loss= 729.9773, Training Accuracy= 0.930\n",
      "Step 440, Minibatch Loss= 529.1472, Training Accuracy= 0.930\n",
      "Step 450, Minibatch Loss= 695.5159, Training Accuracy= 0.922\n",
      "Step 460, Minibatch Loss= 808.7970, Training Accuracy= 0.938\n",
      "Step 470, Minibatch Loss= 665.8918, Training Accuracy= 0.938\n",
      "Step 480, Minibatch Loss= 829.7437, Training Accuracy= 0.961\n",
      "Step 490, Minibatch Loss= 1116.4556, Training Accuracy= 0.953\n",
      "Step 500, Minibatch Loss= 263.4821, Training Accuracy= 0.977\n",
      "Optimization Finished!\n",
      "Testing Accuracy: 0.9609375\n"
     ]
    }
   ],
   "source": [
    "# Initialize the variables (i.e. assign their default value)\n",
    "init = tf.global_variables_initializer()\n",
    "\n",
    "# Start training# Start \n",
    "with tf.Session() as sess:\n",
    "\n",
    "    # Run the initializer\n",
    "    sess.run(init)\n",
    "\n",
    "    for step in range(1, num_steps+1):\n",
    "        batch_x, batch_y = mnist.train.next_batch(batch_size)\n",
    "        # Run optimization op (backprop)\n",
    "        sess.run(train_op, feed_dict={X: batch_x, Y: batch_y, keep_prob: dropout})\n",
    "        if step % display_step == 0 or step == 1:\n",
    "            # Calculate batch loss and accuracy\n",
    "            loss, acc = sess.run([loss_op, accuracy], feed_dict={X: batch_x,\n",
    "                                                                 Y: batch_y,\n",
    "                                                                 keep_prob: 1.0})\n",
    "            print(\"Step \" + str(step) + \", Minibatch Loss= \" + \\\n",
    "                  \"{:.4f}\".format(loss) + \", Training Accuracy= \" + \\\n",
    "                  \"{:.3f}\".format(acc))\n",
    "\n",
    "    print(\"Optimization Finished!\")\n",
    "\n",
    "    # Calculate accuracy for 256 MNIST test images\n",
    "    print(\"Testing Accuracy:\", \\\n",
    "        sess.run(accuracy, feed_dict={X: mnist.test.images[:256],\n",
    "                                      Y: mnist.test.labels[:256],\n",
    "                                      keep_prob: 1.0}))\n",
    "\n",
    "\n",
    "\n"
   ]
  }
 ],
 "metadata": {
  "kernelspec": {
   "display_name": "Python 3",
   "language": "python",
   "name": "python3"
  },
  "language_info": {
   "codemirror_mode": {
    "name": "ipython",
    "version": 3
   },
   "file_extension": ".py",
   "mimetype": "text/x-python",
   "name": "python",
   "nbconvert_exporter": "python",
   "pygments_lexer": "ipython3",
   "version": "3.6.5"
  }
 },
 "nbformat": 4,
 "nbformat_minor": 2
}
