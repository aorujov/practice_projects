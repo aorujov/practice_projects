{
 "cells": [
  {
   "cell_type": "markdown",
   "metadata": {},
   "source": [
    "# Boston Housing\n",
    "\n",
    "# Data \n",
    "\n",
    "* X_train (404, 13)\n",
    "* Y_train (404,)\n",
    "\n",
    "* X_test (102, 13)\n",
    "* Y_test (102,)\n",
    "\n",
    "\n",
    "# Model\n",
    "* Using Keras - 3 layer Model (Dense 64,Dense 64, Dense 1)\n",
    "\n",
    "\n",
    "The dataset contains 13 different features:\n",
    "\n",
    "1. Per capita crime rate.\n",
    "2. The proportion of residential land zoned for lots over 25,000 square feet.\n",
    "3. The proportion of non-retail business acres per town.\n",
    "4. Charles River dummy variable (= 1 if tract bounds river; 0 otherwise).\n",
    "5. Nitric oxides concentration (parts per 10 million).\n",
    "6. The average number of rooms per dwelling.\n",
    "7. The proportion of owner-occupied units built before 1940.\n",
    "8. Weighted distances to five Boston employment centers.\n",
    "9. Index of accessibility to radial highways.\n",
    "10. Full-value property-tax rate per $10,000.\n",
    "11. Pupil-teacher ratio by town.\n",
    "12. 1000 * (Bk - 0.63) ** 2 where Bk is the proportion of Black people by town.\n",
    "13. Percentage lower status of the population.\n"
   ]
  },
  {
   "cell_type": "code",
   "execution_count": 1,
   "metadata": {},
   "outputs": [
    {
     "name": "stdout",
     "output_type": "stream",
     "text": [
      "1.8.0\n"
     ]
    }
   ],
   "source": [
    "import warnings\n",
    "warnings.filterwarnings('ignore')\n",
    "\n",
    "from __future__ import absolute_import, division, print_function\n",
    "\n",
    "import tensorflow as tf\n",
    "from tensorflow import keras\n",
    "\n",
    "import numpy as np\n",
    "\n",
    "import matplotlib.pyplot as plt\n",
    "\n",
    "print(tf.__version__)"
   ]
  },
  {
   "cell_type": "markdown",
   "metadata": {},
   "source": [
    "### Loading the data"
   ]
  },
  {
   "cell_type": "code",
   "execution_count": 3,
   "metadata": {},
   "outputs": [],
   "source": [
    "boston_housing = keras.datasets.boston_housing\n",
    "\n",
    "(X_train, Y_train), (X_test, Y_test) = boston_housing.load_data()"
   ]
  },
  {
   "cell_type": "markdown",
   "metadata": {},
   "source": [
    "### Preprocessing"
   ]
  },
  {
   "cell_type": "code",
   "execution_count": 4,
   "metadata": {},
   "outputs": [],
   "source": [
    "order = np.argsort(np.random.random(Y_train.shape))\n",
    "X_train = X_train[order]\n",
    "Y_train =  Y_train[order]\n",
    "\n",
    "X_train, X_test = X_train.T, X_test.T\n",
    "Y_train = Y_train.reshape((1,Y_train.shape[0]))\n",
    "Y_test = Y_test.reshape((1,Y_test.shape[0]))"
   ]
  },
  {
   "cell_type": "code",
   "execution_count": 5,
   "metadata": {},
   "outputs": [
    {
     "name": "stdout",
     "output_type": "stream",
     "text": [
      "(13, 404)\n",
      "(1, 404)\n",
      "(13, 102)\n",
      "(1, 102)\n"
     ]
    }
   ],
   "source": [
    "print(X_train.shape)\n",
    "print(Y_train.shape)\n",
    "\n",
    "print(X_test.shape)\n",
    "print(Y_test.shape)"
   ]
  },
  {
   "cell_type": "markdown",
   "metadata": {},
   "source": [
    "### Model"
   ]
  },
  {
   "cell_type": "code",
   "execution_count": 6,
   "metadata": {},
   "outputs": [],
   "source": [
    "learning_rate = 0.01\n",
    "training_epochs = 2000\n",
    "batch_size = 100\n",
    "display_step = 50\n",
    "tf.reset_default_graph()"
   ]
  },
  {
   "cell_type": "code",
   "execution_count": 7,
   "metadata": {},
   "outputs": [],
   "source": [
    "X = tf.placeholder(tf.float32, [13, None]) \n",
    "Y = tf.placeholder(tf.float32, [1, None])"
   ]
  },
  {
   "cell_type": "code",
   "execution_count": 8,
   "metadata": {},
   "outputs": [],
   "source": [
    "# Set model weights\n",
    "W1 = tf.get_variable(\"W1\", [25, 13], initializer = tf.contrib.layers.xavier_initializer(seed = 1))\n",
    "b1 = tf.get_variable(\"b1\", [25,1], initializer = tf.zeros_initializer())\n",
    "W2 = tf.get_variable(\"W2\", [12, 25], initializer = tf.contrib.layers.xavier_initializer(seed = 1))\n",
    "b2 = tf.get_variable(\"b2\", [12,1], initializer = tf.zeros_initializer())\n",
    "W3 = tf.get_variable(\"W3\", [1, 12], initializer = tf.contrib.layers.xavier_initializer(seed = 1))\n",
    "b3 = tf.get_variable(\"b3\", [1,1], initializer = tf.zeros_initializer())"
   ]
  },
  {
   "cell_type": "code",
   "execution_count": 9,
   "metadata": {},
   "outputs": [],
   "source": [
    "# Build Model\n",
    "Z1 = tf.add(tf.matmul(W1,X), b1)                                              # Z1 = np.dot(W1, X) + b1\n",
    "A1 = tf.nn.relu(Z1)                                              # A1 = relu(Z1)\n",
    "Z2 = tf.add(tf.matmul(W2,A1), b2)                                              # Z2 = np.dot(W2, a1) + b2\n",
    "A2 = tf.nn.relu(Z2)                                              # A2 = relu(Z2)\n",
    "Z3 = tf.add(tf.matmul(W3,A2), b3)"
   ]
  },
  {
   "cell_type": "code",
   "execution_count": 10,
   "metadata": {},
   "outputs": [],
   "source": [
    "#Cost\n",
    "cost = tf.losses.mean_squared_error(Y, Z3)\n",
    "# loss = tf.reduce_mean(tf.square(Y - Z3))"
   ]
  },
  {
   "cell_type": "code",
   "execution_count": 11,
   "metadata": {},
   "outputs": [],
   "source": [
    "optimizer = tf.train.RMSPropOptimizer(learning_rate).minimize(cost)"
   ]
  },
  {
   "cell_type": "code",
   "execution_count": 12,
   "metadata": {},
   "outputs": [
    {
     "name": "stdout",
     "output_type": "stream",
     "text": [
      "Epoch: 0050 cost= 115.621482849\n",
      "Epoch: 0100 cost= 80.833084106\n",
      "Epoch: 0150 cost= 62.478485107\n",
      "Epoch: 0200 cost= 44.384769440\n",
      "Epoch: 0250 cost= 45.466800690\n",
      "Epoch: 0300 cost= 49.102741241\n",
      "Epoch: 0350 cost= 46.935546875\n",
      "Epoch: 0400 cost= 37.527347565\n",
      "Epoch: 0450 cost= 37.715045929\n",
      "Epoch: 0500 cost= 34.524021149\n",
      "Epoch: 0550 cost= 35.058895111\n",
      "Epoch: 0600 cost= 26.883367538\n",
      "Epoch: 0650 cost= 23.964462280\n",
      "Epoch: 0700 cost= 28.229322433\n",
      "Epoch: 0750 cost= 25.000467300\n",
      "Epoch: 0800 cost= 29.699199677\n",
      "Epoch: 0850 cost= 21.318496704\n",
      "Epoch: 0900 cost= 17.225809097\n",
      "Epoch: 0950 cost= 23.282089233\n",
      "Epoch: 1000 cost= 13.874781609\n",
      "Epoch: 1050 cost= 15.865134239\n",
      "Epoch: 1100 cost= 23.331956863\n",
      "Epoch: 1150 cost= 25.613853455\n",
      "Epoch: 1200 cost= 20.034837723\n",
      "Epoch: 1250 cost= 20.344181061\n",
      "Epoch: 1300 cost= 13.973696709\n",
      "Epoch: 1350 cost= 28.268762589\n",
      "Epoch: 1400 cost= 12.656247139\n",
      "Epoch: 1450 cost= 18.237348557\n",
      "Epoch: 1500 cost= 19.573741913\n",
      "Epoch: 1550 cost= 17.472633362\n",
      "Epoch: 1600 cost= 14.969802856\n",
      "Epoch: 1650 cost= 20.194589615\n",
      "Epoch: 1700 cost= 17.216644287\n",
      "Epoch: 1750 cost= 15.364673615\n",
      "Epoch: 1800 cost= 16.670860291\n",
      "Epoch: 1850 cost= 17.832895279\n",
      "Epoch: 1900 cost= 14.825394630\n",
      "Epoch: 1950 cost= 18.225955963\n",
      "Epoch: 2000 cost= 16.784849167\n"
     ]
    }
   ],
   "source": [
    "init = tf.global_variables_initializer()\n",
    "\n",
    "costs = [[],[]]\n",
    "\n",
    "with tf.Session() as sess:\n",
    "    sess.run(init)\n",
    "   \n",
    "    # Training cycle\n",
    "    for epoch in range(training_epochs):\n",
    "        _, c = sess.run([optimizer, cost], feed_dict={X: X_train, Y: Y_train})\n",
    "        if (epoch+1) % 10 == 0:    \n",
    "            costs[0].append(c)\n",
    "            costs[1].append(cost.eval(feed_dict={X: X_test, Y: Y_test}))\n",
    "        \n",
    "        if (epoch+1) % display_step == 0:\n",
    "            print(\"Epoch:\", '%04d' % (epoch+1), \"cost=\", \"{:.9f}\".format(c))\n",
    "    predictions = Z3.eval(feed_dict={X: X_test, Y: Y_test})"
   ]
  },
  {
   "cell_type": "code",
   "execution_count": 13,
   "metadata": {},
   "outputs": [
    {
     "data": {
      "text/plain": [
       "array([[10.042008 , 16.703203 , 20.172472 , 35.20808  , 21.591108 ,\n",
       "        19.645277 , 24.59444  , 21.455212 , 15.979005 , 17.76287  ,\n",
       "        10.979327 , 15.419694 , 14.992563 , 34.022194 , 15.678891 ,\n",
       "        18.921406 , 20.263908 , 19.966587 , 16.947796 , 19.197721 ,\n",
       "        12.055613 , 12.149361 , 18.189768 , 15.45172  , 20.88364  ,\n",
       "        19.22903  , 22.071987 , 33.002323 , 10.952857 , 20.461008 ,\n",
       "        18.897615 , 10.98412  , 28.978054 , 19.031088 , 16.255613 ,\n",
       "        10.3289995, 12.830905 , 13.063823 , 15.938376 , 24.113174 ,\n",
       "        23.39223  , 20.226494 , 13.382022 , 24.842255 , 36.30192  ,\n",
       "        21.425755 , 27.099743 , 17.65407  , 18.962767 , 19.327162 ,\n",
       "        32.427727 , 18.439209 , 11.397458 , 15.567542 , 25.778143 ,\n",
       "        22.6796   , 10.846289 , 28.033052 , 31.388792 , 20.178612 ,\n",
       "        19.621494 , 14.08572  , 12.134229 , 18.597942 , 21.596272 ,\n",
       "        22.47492  , 14.848931 , 23.00658  , 18.572502 ,  8.196309 ,\n",
       "        18.538822 , 23.185083 , 17.908081 , 18.802765 , 21.3808   ,\n",
       "        16.96932  , 19.796513 , 19.11111  , 31.348677 , 10.406255 ,\n",
       "        17.649965 , 30.528862 , 14.59595  , 11.844206 , 17.752146 ,\n",
       "        15.509219 , 15.649573 , 17.541887 , 18.481518 , 20.000355 ,\n",
       "        16.991299 , 20.378914 , 19.388113 , 24.51527  , 32.245132 ,\n",
       "        15.820199 , 30.142317 , 39.937275 , 21.05327  , 49.869648 ,\n",
       "        22.647495 , 14.797015 ]], dtype=float32)"
      ]
     },
     "execution_count": 13,
     "metadata": {},
     "output_type": "execute_result"
    }
   ],
   "source": [
    "predictions"
   ]
  },
  {
   "cell_type": "code",
   "execution_count": 14,
   "metadata": {},
   "outputs": [
    {
     "data": {
      "text/plain": [
       "[<matplotlib.lines.Line2D at 0x21c595be2e8>]"
      ]
     },
     "execution_count": 14,
     "metadata": {},
     "output_type": "execute_result"
    },
    {
     "data": {
      "image/png": "[encoded data removed]",
      "text/plain": [
       "<Figure size 432x288 with 1 Axes>"
      ]
     },
     "metadata": {},
     "output_type": "display_data"
    }
   ],
   "source": [
    "plt.plot(np.abs(Y_test - predictions)[0], color = 'blue')\n",
    "plt.plot(Y_test[0], color = 'green')\n",
    "plt.plot(predictions[0], color = 'red')"
   ]
  }
 ],
 "metadata": {
  "kernelspec": {
   "display_name": "Python 3",
   "language": "python",
   "name": "python3"
  },
  "language_info": {
   "codemirror_mode": {
    "name": "ipython",
    "version": 3
   },
   "file_extension": ".py",
   "mimetype": "text/x-python",
   "name": "python",
   "nbconvert_exporter": "python",
   "pygments_lexer": "ipython3",
   "version": "3.6.5"
  }
 },
 "nbformat": 4,
 "nbformat_minor": 2
}
