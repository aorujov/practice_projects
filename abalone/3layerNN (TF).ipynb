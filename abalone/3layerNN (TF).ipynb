{
 "cells": [
  {
   "cell_type": "markdown",
   "metadata": {},
   "source": [
    "# Abalone\n",
    "\n",
    "### Data:\n",
    "* X_train (3341, 8)\n",
    "* Y_train (3341,)\n",
    "\n",
    "* X_test (836, 8)\n",
    "* Y_test (836,)\n",
    "\n",
    "### Source:\n",
    "* https://archive.ics.uci.edu/ml/datasets/abalone"
   ]
  },
  {
   "cell_type": "code",
   "execution_count": 1,
   "metadata": {},
   "outputs": [
    {
     "name": "stderr",
     "output_type": "stream",
     "text": [
      "C:\\Users\\abido\\Anaconda3\\lib\\site-packages\\h5py\\__init__.py:36: FutureWarning: Conversion of the second argument of issubdtype from `float` to `np.floating` is deprecated. In future, it will be treated as `np.float64 == np.dtype(float).type`.\n",
      "  from ._conv import register_converters as _register_converters\n"
     ]
    }
   ],
   "source": [
    "import math\n",
    "import numpy as np\n",
    "\n",
    "import tensorflow as tf\n",
    "from tensorflow.python.framework import ops\n",
    "import shutil\n",
    "import pandas as pd\n",
    "from tensorflow import keras\n",
    "\n",
    "from sklearn.model_selection import train_test_split\n",
    "import sklearn.metrics\n",
    "\n",
    "import matplotlib.pyplot as plt"
   ]
  },
  {
   "cell_type": "markdown",
   "metadata": {},
   "source": [
    "# Loading the data"
   ]
  },
  {
   "cell_type": "code",
   "execution_count": 10,
   "metadata": {},
   "outputs": [],
   "source": [
    "data = pd.read_csv('abalone_data.txt', header = None, names = [\"Sex\",\"Length\", \"Diameter\", \"Height\", \"WholeWeight\",\"ShuckedWeight\",\"VisceraWeight\",\"ShellWeight\",\"Rings\"])"
   ]
  },
  {
   "cell_type": "code",
   "execution_count": 11,
   "metadata": {},
   "outputs": [
    {
     "name": "stdout",
     "output_type": "stream",
     "text": [
      "M    1528\n",
      "I    1342\n",
      "F    1307\n",
      "Name: Sex, dtype: int64\n"
     ]
    },
    {
     "data": {
      "image/png": "[encoded data removed]",
      "text/plain": [
       "<Figure size 432x288 with 1 Axes>"
      ]
     },
     "metadata": {},
     "output_type": "display_data"
    }
   ],
   "source": [
    "import seaborn as sns\n",
    "sns.countplot(data['Sex'].value_counts())\n",
    "print(data['Sex'].value_counts())"
   ]
  },
  {
   "cell_type": "markdown",
   "metadata": {},
   "source": [
    "### Data Preprocessing"
   ]
  },
  {
   "cell_type": "code",
   "execution_count": 12,
   "metadata": {},
   "outputs": [],
   "source": [
    "# converting to labels\n",
    "cleanup_nums = {\"Sex\":     {\"M\": 1, \"I\": 2, \"F\": 3}}\n",
    "data.replace(cleanup_nums, inplace=True)\n",
    "\n",
    "\n",
    "X = data.iloc[:,0:8]\n",
    "Y = data.iloc[:,8]\n",
    "\n",
    "# splitting data into train and test sets\n",
    "from sklearn.model_selection import train_test_split\n",
    "X_train, X_test, Y_train, Y_test = train_test_split(X, Y, test_size = 0.2, random_state = 0)\n",
    "\n",
    "# normalizing\n",
    "mean = X_train.mean(axis=0)\n",
    "std = X_train.std(axis=0)\n",
    "X_train = (X_train - mean) / std\n",
    "X_test = (X_test - mean) / std\n",
    "\n",
    "\n",
    "X_train, X_test = np.array(X_train).T, np.array(X_test).T\n",
    "Y_train, Y_test = np.array(Y_train).reshape((1,len(Y_train))), np.array(Y_test).reshape((1,len(Y_test)))"
   ]
  },
  {
   "cell_type": "code",
   "execution_count": 13,
   "metadata": {},
   "outputs": [
    {
     "name": "stdout",
     "output_type": "stream",
     "text": [
      "Training data shape:\n",
      "Input: (8, 3341)\n",
      "Output: (1, 3341)\n",
      "Test data shape :\n",
      "Input: (8, 836)\n",
      "Output: (1, 836)\n"
     ]
    }
   ],
   "source": [
    "print(\"Training data shape:\")\n",
    "print(\"Input: {}\".format(X_train.shape))\n",
    "print(\"Output: {}\".format(Y_train.shape))\n",
    "print(\"Test data shape :\")\n",
    "print(\"Input: {}\".format(X_test.shape))\n",
    "print(\"Output: {}\".format(Y_test.shape))"
   ]
  },
  {
   "cell_type": "markdown",
   "metadata": {},
   "source": [
    "### Model"
   ]
  },
  {
   "cell_type": "code",
   "execution_count": 14,
   "metadata": {},
   "outputs": [],
   "source": [
    "learning_rate = 0.01\n",
    "training_epochs = 2000\n",
    "batch_size = 100\n",
    "display_step = 50\n",
    "tf.reset_default_graph()"
   ]
  },
  {
   "cell_type": "code",
   "execution_count": 15,
   "metadata": {},
   "outputs": [],
   "source": [
    "X = tf.placeholder(tf.float32, [8, None]) \n",
    "Y = tf.placeholder(tf.float32, [1, None])\n",
    "\n",
    "\n",
    "W1 = tf.get_variable(\"W1\", [25, 8], initializer = tf.contrib.layers.xavier_initializer(seed = 1))\n",
    "b1 = tf.get_variable(\"b1\", [25,1], initializer = tf.zeros_initializer())\n",
    "W2 = tf.get_variable(\"W2\", [12, 25], initializer = tf.contrib.layers.xavier_initializer(seed = 1))\n",
    "b2 = tf.get_variable(\"b2\", [12,1], initializer = tf.zeros_initializer())\n",
    "W3 = tf.get_variable(\"W3\", [1, 12], initializer = tf.contrib.layers.xavier_initializer(seed = 1))\n",
    "b3 = tf.get_variable(\"b3\", [1,1], initializer = tf.zeros_initializer())\n",
    "\n",
    "\n",
    "Z1 = tf.add(tf.matmul(W1,X), b1)                                              # Z1 = np.dot(W1, X) + b1\n",
    "A1 = tf.nn.relu(Z1)                                              # A1 = relu(Z1)\n",
    "Z2 = tf.add(tf.matmul(W2,A1), b2)                                              # Z2 = np.dot(W2, a1) + b2\n",
    "A2 = tf.nn.relu(Z2)                                              # A2 = relu(Z2)\n",
    "Z3 = tf.add(tf.matmul(W3,A2), b3)"
   ]
  },
  {
   "cell_type": "code",
   "execution_count": 17,
   "metadata": {},
   "outputs": [],
   "source": [
    "#Cost\n",
    "cost = tf.losses.mean_squared_error(Y, Z3)\n",
    "# loss = tf.reduce_mean(tf.square(Y - Z3))\n",
    "\n",
    "# Gradient Descent\n",
    "optimizer = tf.train.RMSPropOptimizer(learning_rate).minimize(cost)"
   ]
  },
  {
   "cell_type": "markdown",
   "metadata": {},
   "source": [
    "### Training"
   ]
  },
  {
   "cell_type": "code",
   "execution_count": 18,
   "metadata": {},
   "outputs": [
    {
     "name": "stdout",
     "output_type": "stream",
     "text": [
      "Epoch: 0050 cost= 6.249394894\n",
      "Epoch: 0100 cost= 4.940390587\n",
      "Epoch: 0150 cost= 4.969486237\n",
      "Epoch: 0200 cost= 4.659917831\n",
      "Epoch: 0250 cost= 4.860515118\n",
      "Epoch: 0300 cost= 4.689832687\n",
      "Epoch: 0350 cost= 4.691543102\n",
      "Epoch: 0400 cost= 4.423045158\n",
      "Epoch: 0450 cost= 4.660126209\n",
      "Epoch: 0500 cost= 4.415105343\n",
      "Epoch: 0550 cost= 4.630661011\n",
      "Epoch: 0600 cost= 4.566208363\n",
      "Epoch: 0650 cost= 4.256460190\n",
      "Epoch: 0700 cost= 4.742597580\n",
      "Epoch: 0750 cost= 4.214255810\n",
      "Epoch: 0800 cost= 4.390522003\n",
      "Epoch: 0850 cost= 4.594170094\n",
      "Epoch: 0900 cost= 4.154195786\n",
      "Epoch: 0950 cost= 4.383403301\n",
      "Epoch: 1000 cost= 4.562758446\n",
      "Epoch: 1050 cost= 4.140056610\n",
      "Epoch: 1100 cost= 4.366417885\n",
      "Epoch: 1150 cost= 4.167815685\n",
      "Epoch: 1200 cost= 4.045351505\n",
      "Epoch: 1250 cost= 4.173491001\n",
      "Epoch: 1300 cost= 4.102991104\n",
      "Epoch: 1350 cost= 4.088209152\n",
      "Epoch: 1400 cost= 4.371759415\n",
      "Epoch: 1450 cost= 4.041577339\n",
      "Epoch: 1500 cost= 4.015740395\n",
      "Epoch: 1550 cost= 4.210534096\n",
      "Epoch: 1600 cost= 3.881056070\n",
      "Epoch: 1650 cost= 4.101925373\n",
      "Epoch: 1700 cost= 4.117073536\n",
      "Epoch: 1750 cost= 3.919526339\n",
      "Epoch: 1800 cost= 3.951177120\n",
      "Epoch: 1850 cost= 4.490807056\n",
      "Epoch: 1900 cost= 4.019651413\n",
      "Epoch: 1950 cost= 3.776121616\n",
      "Epoch: 2000 cost= 3.992523432\n"
     ]
    }
   ],
   "source": [
    "init = tf.global_variables_initializer()\n",
    "\n",
    "\n",
    "costs = [[],[]]\n",
    "\n",
    "\n",
    "with tf.Session() as sess:\n",
    "    sess.run(init)\n",
    "   \n",
    "    # Training cycle\n",
    "    for epoch in range(training_epochs):\n",
    "        _, c = sess.run([optimizer, cost], feed_dict={X: X_train, Y: Y_train})\n",
    "        if (epoch+1) % 10 == 0:    \n",
    "            costs[0].append(c)\n",
    "            costs[1].append(cost.eval(feed_dict={X: X_test, Y: Y_test}))\n",
    "        \n",
    "        if (epoch+1) % display_step == 0:\n",
    "            print(\"Epoch:\", '%04d' % (epoch+1), \"cost=\", \"{:.9f}\".format(c))\n",
    "    predictions = Z3.eval(feed_dict={X: X_test, Y: Y_test})\n"
   ]
  },
  {
   "cell_type": "markdown",
   "metadata": {},
   "source": [
    "### Results"
   ]
  },
  {
   "cell_type": "code",
   "execution_count": 19,
   "metadata": {},
   "outputs": [
    {
     "data": {
      "text/plain": [
       "[<matplotlib.lines.Line2D at 0x15a9b67c908>]"
      ]
     },
     "execution_count": 19,
     "metadata": {},
     "output_type": "execute_result"
    },
    {
     "data": {
      "image/png": "[encoded data removed]",
      "text/plain": [
       "<Figure size 432x288 with 1 Axes>"
      ]
     },
     "metadata": {},
     "output_type": "display_data"
    }
   ],
   "source": [
    "import matplotlib.pyplot as plt\n",
    "plt.plot(np.abs(Y_test - predictions)[0], color = 'blue')\n",
    "plt.plot(Y_test[0], color = 'green')\n",
    "plt.plot(predictions[0], color = 'red')"
   ]
  },
  {
   "cell_type": "code",
   "execution_count": 22,
   "metadata": {},
   "outputs": [
    {
     "data": {
      "text/plain": [
       "1.5482119279044666"
      ]
     },
     "execution_count": 22,
     "metadata": {},
     "output_type": "execute_result"
    }
   ],
   "source": [
    "sklearn.metrics.mean_absolute_error(Y_test, predictions)\n",
    "# alternatively, np.sum(np.abs(Y_test-predictions))/836"
   ]
  },
  {
   "cell_type": "code",
   "execution_count": 23,
   "metadata": {},
   "outputs": [
    {
     "data": {
      "text/plain": [
       "1.5482119279044666"
      ]
     },
     "execution_count": 23,
     "metadata": {},
     "output_type": "execute_result"
    }
   ],
   "source": [
    "np.sum(np.abs(Y_test-predictions))/836"
   ]
  }
 ],
 "metadata": {
  "kernelspec": {
   "display_name": "Python 3",
   "language": "python",
   "name": "python3"
  },
  "language_info": {
   "codemirror_mode": {
    "name": "ipython",
    "version": 3
   },
   "file_extension": ".py",
   "mimetype": "text/x-python",
   "name": "python",
   "nbconvert_exporter": "python",
   "pygments_lexer": "ipython3",
   "version": "3.6.5"
  }
 },
 "nbformat": 4,
 "nbformat_minor": 2
}
